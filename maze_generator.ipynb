{
  "nbformat": 4,
  "nbformat_minor": 0,
  "metadata": {
    "colab": {
      "provenance": []
    },
    "kernelspec": {
      "name": "python3",
      "display_name": "Python 3"
    },
    "language_info": {
      "name": "python"
    }
  },
  "cells": [
    {
      "cell_type": "code",
      "source": [
        "!pip install matplotlib"
      ],
      "metadata": {
        "colab": {
          "base_uri": "https://localhost:8080/"
        },
        "id": "g4mMsjHRer1N",
        "outputId": "4ad380da-9671-4c0a-c1a2-f27c442c55c2"
      },
      "execution_count": 1,
      "outputs": [
        {
          "output_type": "stream",
          "name": "stdout",
          "text": [
            "Requirement already satisfied: matplotlib in /usr/local/lib/python3.10/dist-packages (3.7.1)\n",
            "Requirement already satisfied: contourpy>=1.0.1 in /usr/local/lib/python3.10/dist-packages (from matplotlib) (1.2.1)\n",
            "Requirement already satisfied: cycler>=0.10 in /usr/local/lib/python3.10/dist-packages (from matplotlib) (0.12.1)\n",
            "Requirement already satisfied: fonttools>=4.22.0 in /usr/local/lib/python3.10/dist-packages (from matplotlib) (4.51.0)\n",
            "Requirement already satisfied: kiwisolver>=1.0.1 in /usr/local/lib/python3.10/dist-packages (from matplotlib) (1.4.5)\n",
            "Requirement already satisfied: numpy>=1.20 in /usr/local/lib/python3.10/dist-packages (from matplotlib) (1.25.2)\n",
            "Requirement already satisfied: packaging>=20.0 in /usr/local/lib/python3.10/dist-packages (from matplotlib) (24.0)\n",
            "Requirement already satisfied: pillow>=6.2.0 in /usr/local/lib/python3.10/dist-packages (from matplotlib) (9.4.0)\n",
            "Requirement already satisfied: pyparsing>=2.3.1 in /usr/local/lib/python3.10/dist-packages (from matplotlib) (3.1.2)\n",
            "Requirement already satisfied: python-dateutil>=2.7 in /usr/local/lib/python3.10/dist-packages (from matplotlib) (2.8.2)\n",
            "Requirement already satisfied: six>=1.5 in /usr/local/lib/python3.10/dist-packages (from python-dateutil>=2.7->matplotlib) (1.16.0)\n"
          ]
        }
      ]
    },
    {
      "cell_type": "code",
      "source": [
        "import matplotlib.pyplot as plt\n",
        "import random"
      ],
      "metadata": {
        "id": "WaUHqlaze05v"
      },
      "execution_count": 3,
      "outputs": []
    },
    {
      "cell_type": "code",
      "source": [
        "from dataclasses import dataclass, field\n",
        "\n",
        "@dataclass\n",
        "class MazeCell:\n",
        "    x: int\n",
        "    y: int\n",
        "    component: int\n",
        "    is_open: bool = field(default=False)\n",
        "    walls: list = field(default_factory=[True, True, True, True])"
      ],
      "metadata": {
        "id": "IQDdnwrJe036"
      },
      "execution_count": 4,
      "outputs": []
    },
    {
      "cell_type": "code",
      "source": [
        "N = 30\n",
        "LINE_WIDTH = 50"
      ],
      "metadata": {
        "id": "kI7oo82We01O"
      },
      "execution_count": 5,
      "outputs": []
    },
    {
      "cell_type": "code",
      "source": [
        "def find(x, parent):\n",
        "    if x != parent[x]:\n",
        "        parent[x] = find(parent[x], parent)\n",
        "    return parent[x]\n",
        "\n",
        "def union(x, y, parent):\n",
        "    root_x = find(x, parent)\n",
        "    root_y = find(y, parent)\n",
        "    if root_x != root_y:\n",
        "        parent[root_x] = root_y\n",
        "\n",
        "def generate_maze(N):\n",
        "    maze = [[MazeCell(x, y, x * N + y, walls=[True, True, True, True]) for y in range(N)] for x in range(N)]\n",
        "    parent = [i for i in range(N**2)]\n",
        "\n",
        "    maze[0][1].is_open = True\n",
        "    maze[N-1][N-2].is_open = True\n",
        "\n",
        "    def is_valid_cell(x, y):\n",
        "        return 0 <= x < N and 0 <= y < N\n",
        "\n",
        "    directions = [(0, 1), (1, 0), (0, -1), (-1, 0)]\n",
        "\n",
        "    def make_opening(cell):\n",
        "        nonlocal maze, parent\n",
        "        x, y = cell.x, cell.y\n",
        "        walls_to_remove = []\n",
        "        for i, (dx, dy) in enumerate(directions):\n",
        "            Nx, Ny = x + dx, y + dy\n",
        "            if is_valid_cell(Nx, Ny) and not maze[Nx][Ny].is_open:\n",
        "                walls_to_remove.append(i)\n",
        "        if walls_to_remove:\n",
        "            wall_index = random.choice(walls_to_remove)\n",
        "            dx, dy = directions[wall_index]\n",
        "            nx, ny = x + dx, y + dy\n",
        "            union(x * N + y, Nx * N + ny, parent)\n",
        "            maze[x][y].walls[wall_index] = False\n",
        "            maze[Nx][Ny].walls[(wall_index + 2) % 4] = False\n",
        "\n",
        "    make_opening(maze[0][1])\n",
        "    make_opening(maze[N-1][N-2])\n",
        "\n",
        "    while len(set(find(cell.x * N + cell.y, parent) for row in maze for cell in row)) > 1:\n",
        "        x, y = random.randint(0, N - 1), random.randint(0, N - 1)\n",
        "        dx, dy = random.choice(directions)\n",
        "        Nx, Ny = x + dx, y + dy\n",
        "\n",
        "        if is_valid_cell(Nx, Ny) and (x != 0 or y != 1) and (Nx != N-1 or Ny != N-2):\n",
        "            if find(x * N + y, parent) != find(Nx * N + Ny, parent):\n",
        "                union(x * N + y, Nx * N + Ny, parent)\n",
        "                maze[x][y].walls[directions.index((dx, dy))] = False\n",
        "                maze[Nx][Ny].walls[directions.index((-dx, -dy))] = False\n",
        "    return maze"
      ],
      "metadata": {
        "id": "34ovOzx0e0xt"
      },
      "execution_count": 21,
      "outputs": []
    },
    {
      "cell_type": "code",
      "source": [
        "def draw_maze(maze):\n",
        "    fig = plt.figure(figsize=(10, 10))\n",
        "\n",
        "    for row in maze:\n",
        "        for cell in row:\n",
        "            x, y = cell.x, cell.y\n",
        "\n",
        "            if cell.walls[0] and x != 0 and y != 1:\n",
        "                plt.plot([x, x + 1], [y + 1, y + 1], 'k-', lw=2)\n",
        "            if cell.walls[1]:\n",
        "                plt.plot([x + 1, x + 1], [y, y + 1], 'k-', lw=2)\n",
        "            if cell.walls[2] and x != 29 and y != 30:\n",
        "                plt.plot([x, x + 1], [y, y], 'k-', lw=2)\n",
        "            if cell.walls[3]:\n",
        "                plt.plot([x, x], [y, y + 1], 'k-', lw=2)\n",
        "\n",
        "    plt.show()"
      ],
      "metadata": {
        "id": "cYe9UEG7e0qz"
      },
      "execution_count": 13,
      "outputs": []
    },
    {
      "cell_type": "code",
      "source": [
        "maze = generate_maze(N)\n",
        "draw_maze(maze)"
      ],
      "metadata": {
        "colab": {
          "base_uri": "https://localhost:8080/",
          "height": 830
        },
        "id": "YJpA3qhRfCuG",
        "outputId": "86d16a3b-66b6-4325-ea68-9839c0db0f33"
      },
      "execution_count": 22,
      "outputs": [
        {
          "output_type": "display_data",
          "data": {
            "text/plain": [
              "<Figure size 1000x1000 with 1 Axes>"
            ],
            "image/png": "[encoded data removed]"
          },
          "metadata": {}
        }
      ]
    }
  ]
}